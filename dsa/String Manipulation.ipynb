{
 "cells": [
  {
   "cell_type": "markdown",
   "id": "e93164d3-c147-4db8-befa-65b6063c2155",
   "metadata": {},
   "source": [
    "# String Manipulation"
   ]
  },
  {
   "cell_type": "code",
   "execution_count": 2,
   "id": "a7b6ccb3-8521-4699-b48b-b6dabcba6180",
   "metadata": {},
   "outputs": [],
   "source": [
    "# Implement a function that returns whether a character is a lowercase or uppercase English letter or a digit\n",
    "def is_alphanumeric(c):\n",
    "    ascii = ord(c)\n",
    "    upper = ascii >= ord('A') and ascii <= ord('Z')\n",
    "    lower = ascii >= ord('a') and ascii <= ord('z')\n",
    "    numeric = ascii >= ord('0') and ascii <= ord('9')\n",
    "    return upper or lower or numeric"
   ]
  },
  {
   "cell_type": "code",
   "execution_count": 3,
   "id": "1492a9d1-c5cc-4861-93ce-f77d7be30b36",
   "metadata": {},
   "outputs": [
    {
     "data": {
      "text/plain": [
       "False"
      ]
     },
     "execution_count": 3,
     "metadata": {},
     "output_type": "execute_result"
    }
   ],
   "source": [
    "is_alphanumeric('(')"
   ]
  },
  {
   "cell_type": "code",
   "execution_count": 4,
   "id": "98b0d7fe-192f-4cf3-aa07-5f5014b9a2a9",
   "metadata": {},
   "outputs": [],
   "source": [
    "#Implement a function that converts a lowercase character to uppercase (or does nothing if it's not passed a lowercase letter)\n",
    "def to_uppercase(c):\n",
    "    try: \n",
    "        ascii = ord(c)\n",
    "        if ascii >= ord('a') and ascii <= ord('z'): #establishes whether c is lowercase\n",
    "            return chr(ord('A') + ascii - ord('a'))\n",
    "    except:\n",
    "        pass"
   ]
  },
  {
   "cell_type": "code",
   "execution_count": 5,
   "id": "f64e939b-7f01-4c19-a0f1-9612c774c2b8",
   "metadata": {},
   "outputs": [],
   "source": [
    "to_uppercase('%')"
   ]
  },
  {
   "cell_type": "markdown",
   "id": "9d6aaa17-12fe-404c-bd95-71aec0520779",
   "metadata": {},
   "source": [
    "#### String mutability in python\n",
    "Strings are immutable in python, which means that if you add a character, python actually creates a new string, copying all elements from the existing string to the new one. This takes O(len(s)) time, so we should avoid using += syntax with strings.\n",
    "\n",
    "The better alternative is to use a dynamic array and then converting to a string at the end of the operation, using ''.join(my_array) ."
   ]
  },
  {
   "cell_type": "markdown",
   "id": "1587091f-4809-4ce2-9c82-af6cd16334b5",
   "metadata": {},
   "source": [
    "#### String Split\n",
    "\n",
    "Without using a built-in string split method, implement a `split(s, c)` method, which receives a string `s` and a character `c` and splits `s` at each occurrence of `c`, returning a list of strings."
   ]
  },
  {
   "cell_type": "markdown",
   "id": "6551b3e2-85e0-43d8-882a-98d18e037f73",
   "metadata": {},
   "source": [
    "##### Explanation of approach\n",
    "I create an empty starting array which will be used for the final output and another empty array which will be used to collect characters from the string s as the function is run. I know I'll need to cycle through all of the characters in s looking for the c variable and while I search I prefer to store the characters in a dynamic array than to keep recomposing strings, as this is a more efficient approach.\n",
    "\n",
    "I use a for-loop to sequence through the characters in s, adding each character to the temporary buffer array unless I reach the target variable for splitting, in which case, I join the characters in the buffer together to create a string and add it to the final result array (and then empty the buffer). When I reach the end of the sequence, I perform one final string creation from the buffer and add this to the result array, then return the result array."
   ]
  },
  {
   "cell_type": "code",
   "execution_count": 9,
   "id": "af53663c-7f3f-4e59-97f0-aaed67fc72ec",
   "metadata": {},
   "outputs": [],
   "source": [
    "def split(s, c):\n",
    "    if not s:\n",
    "        return []\n",
    "    result = []\n",
    "    current = []\n",
    "    for char in s:\n",
    "        if char == c:\n",
    "            result.append(''.join(current))\n",
    "            current = []\n",
    "        else:\n",
    "            current += char\n",
    "    result.append(''.join(current))\n",
    "    return result"
   ]
  },
  {
   "cell_type": "code",
   "execution_count": 10,
   "id": "d74b83f5-9941-4e97-8c0d-8dbf487522c2",
   "metadata": {},
   "outputs": [
    {
     "name": "stdout",
     "output_type": "stream",
     "text": [
      "['split', 'by', 'space']\n",
      "['b', '', 'k', '', 'p', 'r n', '', 'd', 'd']\n",
      "['', 'home', '.', '..', '', 'Documents', '']\n"
     ]
    }
   ],
   "source": [
    "# Examples\n",
    "s, c = \"split by space\", ' '\n",
    "print(split(s, c))\n",
    "\n",
    "s, c = \"beekeeper needed\", 'e'\n",
    "print(split(s, c))\n",
    "\n",
    "s, c = \"/home/./..//Documents/\", '/'\n",
    "print(split(s, c))"
   ]
  },
  {
   "cell_type": "markdown",
   "id": "b715e64f-fdd1-4901-900a-b9ab25bafd9f",
   "metadata": {},
   "source": [
    "#### Analysis\n",
    "`split()` takes O(len(s)) time, since dynamic arrays take O(1) amortized time per character.\n",
    "\n",
    "The space complexity is also O(len(s)). It includes the string, the final result array and the temporary array, each of which we might approximate to O(len(s)), although the temporary array is likely smaller."
   ]
  },
  {
   "cell_type": "markdown",
   "id": "5660c1ff-04e1-4d5b-968c-a067fe56c898",
   "metadata": {},
   "source": [
    "##### Alternate approach\n",
    "It's possible to optimise this approach by using two pointers and then slicing the string straight to the result array, bypassing the temporary array. \n",
    "\n",
    "In most programming languages, string slicing (or substring) operations typically have a time complexity of O(k), where k is the length of the substring being extracted. However, in some languages (like Python), string slicing can be O(1) in time complexity because strings are immutable and slices can be implemented as views on the original string.\n",
    "\n",
    "Regarding space complexity, slicing generally creates a new string, which would be O(k) where k is the length of the slice.\n"
   ]
  },
  {
   "cell_type": "code",
   "execution_count": 13,
   "id": "09109107-a94a-48e3-a108-25956aa3a0ef",
   "metadata": {},
   "outputs": [],
   "source": [
    "def split(s, c):\n",
    "    if not s:\n",
    "        return []\n",
    "    result = []\n",
    "    j = 0\n",
    "    for i in range(len(s)):\n",
    "        if s[i] == c:\n",
    "            result.append(s[j:i])\n",
    "            j = i+1\n",
    "    result.append(s[j:])\n",
    "    return result\n",
    "    "
   ]
  },
  {
   "cell_type": "code",
   "execution_count": 14,
   "id": "d02452c7-14a2-4be4-9280-b7b1bce2101c",
   "metadata": {},
   "outputs": [
    {
     "name": "stdout",
     "output_type": "stream",
     "text": [
      "['split', 'by', 'space']\n",
      "['b', '', 'k', '', 'p', 'r n', '', 'd', 'd']\n",
      "['', 'home', '.', '..', '', 'Documents', '']\n"
     ]
    }
   ],
   "source": [
    "# Examples\n",
    "s, c = \"split by space\", ' '\n",
    "print(split(s, c))\n",
    "\n",
    "s, c = \"beekeeper needed\", 'e'\n",
    "print(split(s, c))\n",
    "\n",
    "s, c = \"/home/./..//Documents/\", '/'\n",
    "print(split(s, c))"
   ]
  },
  {
   "cell_type": "markdown",
   "id": "2426c3a4-3186-4cf9-ae29-22b5d99836a6",
   "metadata": {},
   "source": [
    "#### String Join\n",
    "Without using a built-in string split method, implement a `join(arr, s)` method, which receives an array of strings,`arr` and an array of individual characters `s` and returns a joined up string.\n",
    "\n",
    "Assume you have access to a function `array_to_string(arr)`, which converts an array of individual characters to a string."
   ]
  },
  {
   "cell_type": "code",
   "execution_count": 16,
   "id": "e5fc3a19-eedf-48a9-938c-760fcfaa8a91",
   "metadata": {},
   "outputs": [],
   "source": [
    "def join(arr, s):\n",
    "    #if len(arr) == 0:\n",
    "        #raise IndexError('Index out of bounds')\n",
    "    joined_array = []\n",
    "    for i in range(len(arr)):\n",
    "        if i !=0:\n",
    "            for c in s:\n",
    "                joined_array.append(s)\n",
    "        for c in str:\n",
    "            joined_array.append(c)\n",
    "\n",
    "    return array_to_string(joined_array)"
   ]
  },
  {
   "cell_type": "markdown",
   "id": "8f985700-dd13-4630-acf9-1c9712296760",
   "metadata": {},
   "source": [
    "#### String Matching\n",
    "Implement an `index_of(s, t)` method, which returns the first index where string t appears in string s or -1 if s does not contain t."
   ]
  },
  {
   "cell_type": "code",
   "execution_count": 18,
   "id": "09d559a4-fc60-4322-a2e1-2f254c72190e",
   "metadata": {},
   "outputs": [],
   "source": [
    "def index_of(s, t):\n",
    "    for i in range(len(s) - len(t) + 1):\n",
    "        if s[i:i+len(t)] == t:\n",
    "            return i\n",
    "    return -1"
   ]
  },
  {
   "cell_type": "code",
   "execution_count": 19,
   "id": "a6ac0158-85b4-4584-aabf-721533b17b59",
   "metadata": {},
   "outputs": [
    {
     "data": {
      "text/plain": [
       "2"
      ]
     },
     "execution_count": 19,
     "metadata": {},
     "output_type": "execute_result"
    }
   ],
   "source": [
    "index_of(\"Hello\", \"ll\")"
   ]
  },
  {
   "cell_type": "markdown",
   "id": "4cae8405-b5fb-4e14-9d75-eaae50dd877d",
   "metadata": {},
   "source": [
    "#### Analysis\n",
    "`join(arr, s)` takes O(len(arr) x (len(s)+1)) time, or O(len(s)), since dynamic arrays take O(1) per character. The size is basically O(3xlen(s)), since we have to account for the original arrays, the temporary array and the final string.\n",
    "\n",
    "`index_of(s,t)` takes slightly less than O(len(s)) time for the pointer to check across s for matches. Performing a slice takes O(1) time in python, but comparing each of the characters takes O(len(t)) so the total worst case is O(len(s) x len(t)). Space complexity is O(1), since the function doesn't create any new data structures that depend on the input size."
   ]
  },
  {
   "cell_type": "code",
   "execution_count": 21,
   "id": "8300fa4e-de1a-429a-84a6-0e89580369e5",
   "metadata": {},
   "outputs": [],
   "source": [
    "# The following provides a slight optimization. Rather than comparing the whole of t with each slice of s, \n",
    "# it uses a for-loop to compare each letter and has a break clause to end the loop as soon as a non-match is found.\n",
    "\n",
    "def index_of(s, t):\n",
    "    if t == \"\":\n",
    "        return 0\n",
    "    lt = len(t)    \n",
    "    for i in range(len(s) - lt + 1):\n",
    "        for j in range(lt):\n",
    "            if s[i+j] != t[j]:\n",
    "                break\n",
    "            else:\n",
    "                if j == lt - 1:\n",
    "                    return i\n",
    "\n",
    "    return -1"
   ]
  },
  {
   "cell_type": "code",
   "execution_count": 22,
   "id": "4a07b6f1-424c-431a-ab2a-bff81dcc854f",
   "metadata": {},
   "outputs": [
    {
     "data": {
      "text/plain": [
       "2"
      ]
     },
     "execution_count": 22,
     "metadata": {},
     "output_type": "execute_result"
    }
   ],
   "source": [
    "index_of(\"Hello\", \"ll\")"
   ]
  },
  {
   "cell_type": "code",
   "execution_count": 23,
   "id": "1d28f07b-2a40-4700-91ab-1f964981d3f9",
   "metadata": {},
   "outputs": [],
   "source": [
    "# Constraints:\n",
    "\n",
    "# - The input strings can contain any valid ASCII character\n",
    "# - The length of s is at most 10^5\n",
    "# - The length of t is at most 10^5"
   ]
  },
  {
   "cell_type": "code",
   "execution_count": 24,
   "id": "cd04bad5-7fb5-4dc4-b70f-6ab08d8379b1",
   "metadata": {},
   "outputs": [
    {
     "data": {
      "text/plain": [
       "0"
      ]
     },
     "execution_count": 24,
     "metadata": {},
     "output_type": "execute_result"
    }
   ],
   "source": [
    "# - t can be empty, in which case return 0\n",
    "index_of(\"Hello\", \"\")"
   ]
  },
  {
   "cell_type": "code",
   "execution_count": 25,
   "id": "3cd6d550-707a-47ec-9e42-c25e180b3f09",
   "metadata": {},
   "outputs": [
    {
     "data": {
      "text/plain": [
       "0"
      ]
     },
     "execution_count": 25,
     "metadata": {},
     "output_type": "execute_result"
    }
   ],
   "source": [
    "# - s can be empty, in which case return -1 if t is non-empty, 0 if t is empty\n",
    "index_of(\"\", \"\")"
   ]
  },
  {
   "cell_type": "code",
   "execution_count": 26,
   "id": "898ba7ac-9d6d-42b0-af31-61c4b0336f9c",
   "metadata": {},
   "outputs": [
    {
     "data": {
      "text/plain": [
       "-1"
      ]
     },
     "execution_count": 26,
     "metadata": {},
     "output_type": "execute_result"
    }
   ],
   "source": [
    "index_of(\"\", \"Hello\")"
   ]
  },
  {
   "cell_type": "code",
   "execution_count": null,
   "id": "cbe36747-6d4c-46f5-bcb8-c7cb2ffbd09a",
   "metadata": {},
   "outputs": [],
   "source": []
  }
 ],
 "metadata": {
  "kernelspec": {
   "display_name": "Python 3 (ipykernel)",
   "language": "python",
   "name": "python3"
  },
  "language_info": {
   "codemirror_mode": {
    "name": "ipython",
    "version": 3
   },
   "file_extension": ".py",
   "mimetype": "text/x-python",
   "name": "python",
   "nbconvert_exporter": "python",
   "pygments_lexer": "ipython3",
   "version": "3.12.4"
  }
 },
 "nbformat": 4,
 "nbformat_minor": 5
}
