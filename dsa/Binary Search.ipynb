{
 "cells": [
  {
   "cell_type": "markdown",
   "id": "e951b2c4-6d24-4c35-8a38-8a193c6da8ea",
   "metadata": {},
   "source": [
    "# Binary Search"
   ]
  },
  {
   "cell_type": "markdown",
   "id": "e16eb1de-fb91-4a74-8cd1-886d46c86c71",
   "metadata": {},
   "source": [
    "#### Search in sorted array\n",
    "Given a sorted array of distinct integers and a target value, return the target's index, if it's in the array, or -1."
   ]
  },
  {
   "cell_type": "code",
   "execution_count": 34,
   "id": "b39e5a9f-d41f-4ec3-83d8-4e3f9461aba5",
   "metadata": {},
   "outputs": [],
   "source": [
    "# The approach is to continuously halve the array, checking whether the target value is above or below the value at the midpoint \n",
    "# so as to determine which half to keep. This uses a variant of the inward pointer method.\n",
    "# Invariant: t is always between arr[l] and arr[r], inclusive.\n",
    "def binary_search(arr, t):\n",
    "    n = len(arr)\n",
    "    if n > 0:\n",
    "        l, r = 0, n - 1\n",
    "        while arr[l] <= t <= arr[r]:\n",
    "            m = (l + r) // 2 # NB if l = r then m = l = r\n",
    "            if arr[m] == t:\n",
    "                return m\n",
    "            elif arr[m] > t:\n",
    "                r = m-1\n",
    "            else:\n",
    "                l = m+1\n",
    "    return -1"
   ]
  },
  {
   "cell_type": "code",
   "execution_count": 32,
   "id": "dcdbc44e-3896-422e-9aaa-058f1a36912a",
   "metadata": {},
   "outputs": [
    {
     "name": "stdout",
     "output_type": "stream",
     "text": [
      "Searching for 3 in [-2, 0, 3, 4, 7, 9, 11]: 2\n",
      "Searching for 2 in [-2, 0, 3, 4, 7, 9, 11]: -1\n",
      "Searching for -3 in [-2, 0, 3, 4, 7, 9, 11]: -1\n",
      "Searching for 12 in [-2, 0, 3, 4, 7, 9, 11]: -1\n",
      "Searching for 11 in [-2, 0, 3, 4, 7, 9, 11]: 6\n",
      "Searching for 3 in []: -1\n"
     ]
    }
   ],
   "source": [
    "arr = [-2,0,3,4,7,9,11]\n",
    "t = 3\n",
    "print(f\"Searching for {t} in {arr}: {binary_search(arr, t)}\")\n",
    "t = 2\n",
    "print(f\"Searching for {t} in {arr}: {binary_search(arr, t)}\")\n",
    "t = -3\n",
    "print(f\"Searching for {t} in {arr}: {binary_search(arr, t)}\")\n",
    "t = 12\n",
    "print(f\"Searching for {t} in {arr}: {binary_search(arr, t)}\")\n",
    "t = 11\n",
    "print(f\"Searching for {t} in {arr}: {binary_search(arr, t)}\")\n",
    "arr = []\n",
    "t = 3\n",
    "print(f\"Searching for {t} in {arr}: {binary_search(arr, t)}\")"
   ]
  },
  {
   "cell_type": "code",
   "execution_count": null,
   "id": "9881fee0-05d7-4242-a72b-9a625dc7fcdb",
   "metadata": {},
   "outputs": [],
   "source": []
  }
 ],
 "metadata": {
  "kernelspec": {
   "display_name": "Python 3 (ipykernel)",
   "language": "python",
   "name": "python3"
  },
  "language_info": {
   "codemirror_mode": {
    "name": "ipython",
    "version": 3
   },
   "file_extension": ".py",
   "mimetype": "text/x-python",
   "name": "python",
   "nbconvert_exporter": "python",
   "pygments_lexer": "ipython3",
   "version": "3.12.4"
  }
 },
 "nbformat": 4,
 "nbformat_minor": 5
}
