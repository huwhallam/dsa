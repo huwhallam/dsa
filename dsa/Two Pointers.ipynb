{
 "cells": [
  {
   "cell_type": "markdown",
   "id": "3d0a2f2b-022b-4b38-b7a4-d447ada13650",
   "metadata": {},
   "source": [
    "# Two Pointers\n",
    "#### Movement Patterns\n",
    "- <b>Inward pointers</b>: two pointers move towards each other from both ends of an array.\n",
    "- <b>Slow and fast pointers</b>: both move in the same direction but with one ahead of the other.\n",
    "- <b>Parallel pointers</b>: move in parallel through different arrays."
   ]
  },
  {
   "cell_type": "markdown",
   "id": "695e1048-a0c1-41d5-b6c0-d36b218e20f2",
   "metadata": {},
   "source": [
    "#### Palindrome check - inward pointers\n",
    "Given a string s, return whether it is a palindrome."
   ]
  },
  {
   "cell_type": "code",
   "execution_count": 7,
   "id": "d5314a76-31ef-44cf-91b9-853f18d7baca",
   "metadata": {},
   "outputs": [],
   "source": [
    "# This simple algorithm uses inward pointers. \n",
    "# Time complexity is O(len(s)). \n",
    "# Space complexity is O(1), as no additional data structures are created.\n",
    "\n",
    "def palindrome_check(s):\n",
    "    i, j = 0, len(s)-1\n",
    "    while i < j:\n",
    "        if s[i] != s[j]:\n",
    "            return False\n",
    "        i+=1\n",
    "        j-=1\n",
    "    return True"
   ]
  },
  {
   "cell_type": "code",
   "execution_count": 15,
   "id": "0e2d02a9-90ef-4bff-aef3-9a25fc25b107",
   "metadata": {},
   "outputs": [
    {
     "name": "stdout",
     "output_type": "stream",
     "text": [
      "Is 'naan' a palindrome? True\n",
      "Is 'level' a palindrome? True\n",
      "Is 'hello' a palindrome? False\n"
     ]
    }
   ],
   "source": [
    "print(f\"Is 'naan' a palindrome? {palindrome_check(\"naan\")}\")\n",
    "print(f\"Is 'level' a palindrome? {palindrome_check(\"level\")}\")\n",
    "print(f\"Is 'hello' a palindrome? {palindrome_check(\"hello\")}\")"
   ]
  },
  {
   "cell_type": "markdown",
   "id": "35e58751-3f1c-446c-a432-c1802a6faa66",
   "metadata": {},
   "source": [
    "#### Smaller prefixes - slow and fast pointers\n",
    "Given an array of integers with even length (n), return True if for every element in the first half of the array, the sum of it and all proceeding elements is smaller than the inclusive sum for the element twice as far along the array.\n",
    "\n",
    "Eg.: arr = [1, 2, 2, -1] will return true as 1 < 2 and 1 + 2 (= 3) < 1 + 2 + 2 - 1 (= 4)"
   ]
  },
  {
   "cell_type": "code",
   "execution_count": 37,
   "id": "dadabb28-50f7-47f1-84e7-db47dcb6a140",
   "metadata": {},
   "outputs": [],
   "source": [
    "# This algorithm uses slow and fast pointers.\n",
    "# Time complexity is O(n), space complexity is O(1).\n",
    "\n",
    "def smaller_prefixes(arr):\n",
    "    n = len(arr)\n",
    "    if n%2 != 0:\n",
    "        raise IndexError('arr not of even length')\n",
    "    sp, fp = 0, 0\n",
    "    slow_sum, fast_sum = 0, 0\n",
    "    for sp in range(n//2): # floor division used as range must be specified by an int\n",
    "        slow_sum += arr[sp]\n",
    "        fast_sum += arr[fp] + arr[fp+1]\n",
    "        if slow_sum >= fast_sum:\n",
    "            return False\n",
    "        fp +=2\n",
    "    return True    "
   ]
  },
  {
   "cell_type": "code",
   "execution_count": 39,
   "id": "f642e10a-d4af-4bab-a226-3879f0e0fbe9",
   "metadata": {},
   "outputs": [
    {
     "name": "stdout",
     "output_type": "stream",
     "text": [
      "Check array [1, 2, 2, -1]: True\n",
      "Check array [1, 2, -2, 1, 3, 5]: False\n"
     ]
    }
   ],
   "source": [
    "print(f\"Check array [1, 2, 2, -1]: {smaller_prefixes([1,2,2,-1])}\")\n",
    "print(f\"Check array [1, 2, -2, 1, 3, 5]: {smaller_prefixes([1,2,-2,1,3,5])}\")"
   ]
  },
  {
   "cell_type": "markdown",
   "id": "56ca9f62-012b-4f93-9901-c0995790553d",
   "metadata": {},
   "source": [
    "#### Array intersection - parallel pointers\n",
    "Create a sorted array of integers that appear in both of two sorted arrays of integers, keeping any duplicates."
   ]
  },
  {
   "cell_type": "code",
   "execution_count": 46,
   "id": "74f1184f-97d6-425e-8a91-c580302fba18",
   "metadata": {},
   "outputs": [],
   "source": [
    "# This algorithm uses parallel pointers\n",
    "# We work out which pointer to advance by checking which array has the smallest current value. This works because the arrays are ordered.\n",
    "# Time complexity is O(len(arr1) + len(arr2)) = O(n). Space complexity is O(len(new))\n",
    "def array_intersection(arr1, arr2):\n",
    "    i, j = 0, 0\n",
    "    new = []\n",
    "    while i < len(arr1) and j < len(arr2):\n",
    "        if arr1[i] == arr2[j]:\n",
    "            new.append(arr1[i])\n",
    "            i += 1\n",
    "            j += 1\n",
    "        elif arr1[i] < arr2[j]: \n",
    "            i += 1\n",
    "        else:\n",
    "            j += 1\n",
    "    return new\n",
    "        "
   ]
  },
  {
   "cell_type": "code",
   "execution_count": 48,
   "id": "d947d972-7b1c-4c38-8bce-ec5d4646035a",
   "metadata": {},
   "outputs": [
    {
     "name": "stdout",
     "output_type": "stream",
     "text": [
      "create intersectionf for arr1 = [1, 2, 3], arr2 = [1, 3, 5]: [1, 3]\n",
      "create intersectionf for arr1 = [1, 1, 1], arr2 = [1, 1]: [1, 1]\n"
     ]
    }
   ],
   "source": [
    "print(f\"create intersectionf for arr1 = [1, 2, 3], arr2 = [1, 3, 5]: {array_intersection([1,2,3], [1, 3, 5])}\")\n",
    "print(f\"create intersectionf for arr1 = [1, 1, 1], arr2 = [1, 1]: {array_intersection([1,1,1], [1, 1])}\")"
   ]
  },
  {
   "cell_type": "code",
   "execution_count": null,
   "id": "7b1179e6-2540-4b95-8dfa-933d1dfa26e8",
   "metadata": {},
   "outputs": [],
   "source": []
  }
 ],
 "metadata": {
  "kernelspec": {
   "display_name": "Python 3 (ipykernel)",
   "language": "python",
   "name": "python3"
  },
  "language_info": {
   "codemirror_mode": {
    "name": "ipython",
    "version": 3
   },
   "file_extension": ".py",
   "mimetype": "text/x-python",
   "name": "python",
   "nbconvert_exporter": "python",
   "pygments_lexer": "ipython3",
   "version": "3.12.4"
  }
 },
 "nbformat": 4,
 "nbformat_minor": 5
}
